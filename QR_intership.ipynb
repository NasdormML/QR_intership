{
 "cells": [
  {
   "cell_type": "code",
   "execution_count": null,
   "metadata": {},
   "outputs": [],
   "source": [
    "import pandas as pd\n",
    "import numpy as np\n",
    "import matplotlib.pyplot as plt\n",
    "import requests\n",
    "import cvxpy as cp\n",
    "import apimoex\n",
    "from datetime import datetime, timedelta\n",
    "from sklearn.covariance import LedoitWolf\n",
    "\n",
    "# P.s Да в названии репо ошибка, но так ее никто из других кандидатов на стажировку не найдет)"
   ]
  },
  {
   "cell_type": "markdown",
   "metadata": {},
   "source": [
    "# Задаем диапозон дат для выгрузки котировок"
   ]
  },
  {
   "cell_type": "code",
   "execution_count": null,
   "metadata": {},
   "outputs": [
    {
     "name": "stdout",
     "output_type": "stream",
     "text": [
      "Найдено тикеров: 20, \n",
      "['AFKS', 'AFLT', 'ALRS', 'ASTR', 'BSPB', 'CBOM', 'CHMF', 'ENPG', 'FEES', 'FLOT', 'GAZP', 'GMKN', 'HEAD', 'HYDR', 'IRAO', 'LKOH', 'MAGN', 'MDMG', 'MOEX', 'MSNG']\n"
     ]
    }
   ],
   "source": [
    "end = datetime.now().date()\n",
    "start = end - timedelta(days=182)  # 6 месяцев\n",
    "\n",
    "# 1. Получаем список голубых фишек IMOEX через ISS statistics API\n",
    "def get_imoex_constituents():\n",
    "    url = (\n",
    "        \"https://iss.moex.com/iss/statistics/engines/stock/markets/index/analytics/IMOEX.json\"\n",
    "    )\n",
    "    j = requests.get(url).json()\n",
    "    cols = [c.lower() for c in j['analytics']['columns']]\n",
    "    df = pd.DataFrame(j['analytics']['data'], columns=cols)\n",
    "    sec_col = next(c for c in df.columns if 'sec' in c or 'ticker' in c)\n",
    "    return df[sec_col].tolist()\n",
    "\n",
    "tickers = get_imoex_constituents()\n",
    "\n",
    "print(f'Найдено тикеров: {len(tickers)}, \\n{tickers}')\n",
    "\n",
    "# 2. Загрузка сырых цен через apimoex\n",
    "prices = pd.DataFrame()\n",
    "with requests.Session() as session:\n",
    "    for t in tickers:\n",
    "        data = apimoex.get_board_history(session, t, start=start.isoformat(), end=end.isoformat())\n",
    "        df_hist = pd.DataFrame(data)\n",
    "        df_hist[\"TRADEDATE\"] = pd.to_datetime(df_hist[\"TRADEDATE\"])\n",
    "        df_hist.set_index(\"TRADEDATE\", inplace=True)\n",
    "        prices[t] = df_hist[\"CLOSE\"]\n",
    "\n",
    "# Сохраняем сырые цены\n",
    "# prices.to_csv('raw_prices.csv', index_label='date')\n"
   ]
  },
  {
   "cell_type": "markdown",
   "metadata": {},
   "source": [
    "# Выгружаем сплиты если они были"
   ]
  },
  {
   "cell_type": "code",
   "execution_count": null,
   "metadata": {},
   "outputs": [
    {
     "name": "stdout",
     "output_type": "stream",
     "text": [
      "Сплиты за выбранный диапозон не найдены\n"
     ]
    }
   ],
   "source": [
    "# 3. Корректировка на сплиты\n",
    "adj_prices = prices.copy()\n",
    "all_splits = []\n",
    "\n",
    "def fetch_splits(ticker):\n",
    "    j = requests.get(\n",
    "        f\"https://iss.moex.com/iss/engines/stock/markets/shares/securities/{ticker}/corporate-actions.json\"\n",
    "    ).json()\n",
    "    corp = j.get(\"corporateActions\", {})\n",
    "    data = corp.get(\"data\") or []\n",
    "    cols = corp.get(\"columns\") or []\n",
    "    if not data or not cols:\n",
    "        return pd.DataFrame(columns=[\"ACTIONDATE\",\"RATIO\"])\n",
    "    df = pd.DataFrame(data, columns=cols)\n",
    "    if \"ACTIONCODE\" not in df or \"RATIO\" not in df:\n",
    "        return pd.DataFrame(columns=[\"ACTIONDATE\",\"RATIO\"])\n",
    "    return df[df[\"ACTIONCODE\"].str.startswith(\"SP\")][[\"ACTIONDATE\",\"RATIO\"]]\n",
    "\n",
    "splits_records = []\n",
    "for t in tickers:\n",
    "    splits = fetch_splits(t)\n",
    "    if not splits.empty:\n",
    "        splits[\"ticker\"] = t\n",
    "        splits_records.append(splits)\n",
    "        for _, row in splits.iterrows():\n",
    "            dt_split = pd.to_datetime(row.ACTIONDATE)\n",
    "            adj_prices.loc[adj_prices.index < dt_split, t] /= float(row.RATIO)\n",
    "\n",
    "if splits_records:\n",
    "    pd.concat(splits_records).to_csv('splits_summary.csv', index=False)\n",
    "else:\n",
    "    print('Сплиты за выбранный диапозон не найдены')\n",
    "\n",
    "# Сохраняем скорректированные цены\n",
    "# adj_prices.to_csv('adjusted_prices.csv', index_label='date')"
   ]
  },
  {
   "cell_type": "markdown",
   "metadata": {},
   "source": [
    "# Вычисляем доходность, ковариационную матрицу и строим MV портфель "
   ]
  },
  {
   "cell_type": "code",
   "execution_count": 5,
   "metadata": {},
   "outputs": [
    {
     "name": "stdout",
     "output_type": "stream",
     "text": [
      "Long-only MV weights:\n",
      " AFKS    0.2000\n",
      "AFLT    0.2000\n",
      "ALRS   -0.0000\n",
      "ASTR    0.0000\n",
      "BSPB    0.0128\n",
      "CBOM    0.1872\n",
      "CHMF   -0.0000\n",
      "ENPG    0.2000\n",
      "FEES    0.0000\n",
      "FLOT    0.0000\n",
      "GAZP    0.0000\n",
      "GMKN    0.0000\n",
      "HEAD    0.0000\n",
      "HYDR    0.0000\n",
      "IRAO    0.0000\n",
      "LKOH    0.0000\n",
      "MAGN   -0.0000\n",
      "MDMG    0.2000\n",
      "MOEX    0.0000\n",
      "MSNG    0.0000\n",
      "dtype: float64\n",
      "Cumulative return: 1.1323\n",
      "Annualized Return: 0.3075, Volatility: 0.3336, Sharpe: 0.9218\n"
     ]
    }
   ],
   "source": [
    "# 4. Доходности (только по скорректированным ценам)\n",
    "returns = adj_prices.pct_change(fill_method=None).dropna()\n",
    "\n",
    "# 5. Covariance & expected returns\n",
    "lw = LedoitWolf().fit(returns)\n",
    "Sigma = pd.DataFrame(lw.covariance_, index=returns.columns, columns=returns.columns) * 252\n",
    "mu = returns.mean() * 252\n",
    "\n",
    "# 6. Long-only MV оптимизация\n",
    "n = len(tickers)\n",
    "w = cp.Variable(n)\n",
    "lam = 0.1\n",
    "objective = cp.Maximize(mu.values @ w - lam * cp.quad_form(w, Sigma.values))\n",
    "constraints = [cp.sum(w)==1, w>=0, w<=0.2]\n",
    "prob = cp.Problem(objective, constraints)\n",
    "prob.solve()\n",
    "w_opt = pd.Series(w.value, index=tickers)\n",
    "print(\"Long-only MV weights:\\n\", w_opt.round(4))\n",
    "\n",
    "# 7. Расчет портфеля\n",
    "portf_ret = returns[tickers].dot(w_opt)\n",
    "portf_value = (1+portf_ret).cumprod()\n",
    "cum_ret = portf_value.iloc[-1]\n",
    "ann_ret = portf_ret.mean()*252\n",
    "ann_vol = portf_ret.std()*np.sqrt(252)\n",
    "sharpe = ann_ret/ann_vol\n",
    "print(f\"Cumulative return: {cum_ret:.4f}\")\n",
    "print(f\"Annualized Return: {ann_ret:.4f}, Volatility: {ann_vol:.4f}, Sharpe: {sharpe:.4f}\")\n"
   ]
  },
  {
   "cell_type": "code",
   "execution_count": 6,
   "metadata": {},
   "outputs": [
    {
     "data": {
      "image/png": "[encoded data removed]",
      "text/plain": [
       "<Figure size 800x400 with 1 Axes>"
      ]
     },
     "metadata": {},
     "output_type": "display_data"
    }
   ],
   "source": [
    "# 8. График\n",
    "plt.figure(figsize=(8,4))\n",
    "portf_value.plot()\n",
    "plt.title(\"Long-only MV Portfolio Value\")\n",
    "plt.ylabel(\"Value (start=1)\")\n",
    "plt.xlabel(\"Date\")\n",
    "plt.grid(True)\n",
    "plt.tight_layout()\n",
    "plt.show()\n"
   ]
  },
  {
   "cell_type": "code",
   "execution_count": 7,
   "metadata": {},
   "outputs": [
    {
     "name": "stdout",
     "output_type": "stream",
     "text": [
      "Solver status: optimal\n"
     ]
    }
   ],
   "source": [
    "status = prob.solve()\n",
    "print(\"Solver status:\", prob.status)  # optimal, infeasible и т. п.\n"
   ]
  }
 ],
 "metadata": {
  "kernelspec": {
   "display_name": "Python 3",
   "language": "python",
   "name": "python3"
  },
  "language_info": {
   "codemirror_mode": {
    "name": "ipython",
    "version": 3
   },
   "file_extension": ".py",
   "mimetype": "text/x-python",
   "name": "python",
   "nbconvert_exporter": "python",
   "pygments_lexer": "ipython3",
   "version": "3.11.9"
  }
 },
 "nbformat": 4,
 "nbformat_minor": 2
}
